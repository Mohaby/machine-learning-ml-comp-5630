{
  "nbformat": 4,
  "nbformat_minor": 0,
  "metadata": {
    "colab": {
      "provenance": []
    },
    "kernelspec": {
      "name": "python3",
      "display_name": "Python 3"
    },
    "language_info": {
      "name": "python"
    }
  },
  "cells": [
    {
      "cell_type": "markdown",
      "source": [
        "ASSIGNMENT 1 ML, ALL THE QUESTIONS ARE ANSWERED DOWN BELOW IN ORDER\n",
        "\n",
        "MOHAB YOUSEF\n",
        "904154154"
      ],
      "metadata": {
        "id": "jcoW-XtCnGXT"
      }
    },
    {
      "cell_type": "markdown",
      "source": [
        "#Report\n",
        "The objective of this question is to develop a linear regression model to understand the relationship between a single variable x and its corresponding output y,  When looked at the data after showing it, x and y didn't have a straightforward relationship. It wasn't a straight line, it looked like a curve, I tried different equations to understand the cure, a simple one, but it didn't work well Then, a more complicated one, but it got confused and made mistakes.\n",
        "at the end the 3rdDegree equation was the best fit not too simple and not too complicated."
      ],
      "metadata": {
        "id": "Jsp_9UcYooAG"
      }
    },
    {
      "cell_type": "code",
      "execution_count": 37,
      "metadata": {
        "id": "W6wFMbVPzCmY"
      },
      "outputs": [],
      "source": [
        "#Answer1\n",
        "import pandas as pd\n",
        "import numpy as np\n",
        "import matplotlib.pyplot as plt\n",
        "from sklearn.tree import DecisionTreeClassifier\n",
        "from sklearn.metrics import accuracy_score\n",
        "from sklearn.linear_model import LinearRegression\n"
      ]
    },
    {
      "cell_type": "code",
      "source": [
        "train_data = pd.read_excel(\"/content/Housing_data_regression.xlsx\", \"Train\")\n",
        "test_data = pd.read_excel(\"/content/Housing_data_regression.xlsx\", \"Test\")"
      ],
      "metadata": {
        "id": "EJotJla1A5va"
      },
      "execution_count": 38,
      "outputs": []
    },
    {
      "cell_type": "code",
      "source": [
        "train_data"
      ],
      "metadata": {
        "id": "FiWAm_cXAU2D",
        "colab": {
          "base_uri": "https://localhost:8080/",
          "height": 686
        },
        "outputId": "619863be-7f44-4b78-f6d9-031c00817304"
      },
      "execution_count": 39,
      "outputs": [
        {
          "output_type": "execute_result",
          "data": {
            "text/plain": [
              "    House ID  Bathrooms  Land Area  Living area  # Garages  # Rooms  \\\n",
              "0          1        1.0     3.4720        0.998        1.0        7   \n",
              "1          2        1.0     3.5310        1.500        2.0        7   \n",
              "2          3        1.0     2.2750        1.175        1.0        6   \n",
              "3          4        1.0     4.0500        1.232        1.0        6   \n",
              "4          5        1.0     4.4550        1.121        1.0        6   \n",
              "5          6        1.0     4.4550        0.988        1.0        6   \n",
              "6          7        1.0     5.8500        1.240        1.0        7   \n",
              "7          8        1.0     9.5200        1.501        0.0        6   \n",
              "8          9        2.5     9.8000        3.420        2.0       10   \n",
              "9         10        2.5    12.8000        3.000        2.0        9   \n",
              "10        11        1.0     6.4350        1.225        2.0        6   \n",
              "11        12        1.0     4.9883        1.552        1.0        6   \n",
              "12        13        1.0     5.5200        0.975        1.0        5   \n",
              "13        14        1.0     6.6660        1.121        2.0        6   \n",
              "14        15        1.0     5.0000        1.020        0.0        5   \n",
              "15        16        1.0     9.5200        1.501        0.0        6   \n",
              "16        17        1.5     5.1500        1.664        2.0        8   \n",
              "17        18        1.5     6.9020        1.488        1.5        7   \n",
              "18        19        1.5     7.1020        1.376        1.0        6   \n",
              "19        20        1.0     7.8000        1.500        1.5        7   \n",
              "\n",
              "    # Bedrooms  Age of home      Price  \n",
              "0            4           42   491760.0  \n",
              "1            4           62   502080.0  \n",
              "2            3           40   454290.0  \n",
              "3            3           54   455730.0  \n",
              "4            3           42   505970.0  \n",
              "5            3           56   389100.0  \n",
              "6            3           51   589800.0  \n",
              "7            3           32   560390.0  \n",
              "8            5           42  1642020.0  \n",
              "9            5           14  1445980.0  \n",
              "10           3           32   582820.0  \n",
              "11           3           30   530030.0  \n",
              "12           2           30   627120.0  \n",
              "13           3           32   595920.0  \n",
              "14           2           46   505000.0  \n",
              "15           3           32   560390.0  \n",
              "16           4           50   824640.0  \n",
              "17           3           22   669690.0  \n",
              "18           3           17   778410.0  \n",
              "19           3           23   903840.0  "
            ],
            "text/html": [
              "\n",
              "  <div id=\"df-626d0ba1-d0e4-4a48-b66c-f7e33e807e4f\" class=\"colab-df-container\">\n",
              "    <div>\n",
              "<style scoped>\n",
              "    .dataframe tbody tr th:only-of-type {\n",
              "        vertical-align: middle;\n",
              "    }\n",
              "\n",
              "    .dataframe tbody tr th {\n",
              "        vertical-align: top;\n",
              "    }\n",
              "\n",
              "    .dataframe thead th {\n",
              "        text-align: right;\n",
              "    }\n",
              "</style>\n",
              "<table border=\"1\" class=\"dataframe\">\n",
              "  <thead>\n",
              "    <tr style=\"text-align: right;\">\n",
              "      <th></th>\n",
              "      <th>House ID</th>\n",
              "      <th>Bathrooms</th>\n",
              "      <th>Land Area</th>\n",
              "      <th>Living area</th>\n",
              "      <th># Garages</th>\n",
              "      <th># Rooms</th>\n",
              "      <th># Bedrooms</th>\n",
              "      <th>Age of home</th>\n",
              "      <th>Price</th>\n",
              "    </tr>\n",
              "  </thead>\n",
              "  <tbody>\n",
              "    <tr>\n",
              "      <th>0</th>\n",
              "      <td>1</td>\n",
              "      <td>1.0</td>\n",
              "      <td>3.4720</td>\n",
              "      <td>0.998</td>\n",
              "      <td>1.0</td>\n",
              "      <td>7</td>\n",
              "      <td>4</td>\n",
              "      <td>42</td>\n",
              "      <td>491760.0</td>\n",
              "    </tr>\n",
              "    <tr>\n",
              "      <th>1</th>\n",
              "      <td>2</td>\n",
              "      <td>1.0</td>\n",
              "      <td>3.5310</td>\n",
              "      <td>1.500</td>\n",
              "      <td>2.0</td>\n",
              "      <td>7</td>\n",
              "      <td>4</td>\n",
              "      <td>62</td>\n",
              "      <td>502080.0</td>\n",
              "    </tr>\n",
              "    <tr>\n",
              "      <th>2</th>\n",
              "      <td>3</td>\n",
              "      <td>1.0</td>\n",
              "      <td>2.2750</td>\n",
              "      <td>1.175</td>\n",
              "      <td>1.0</td>\n",
              "      <td>6</td>\n",
              "      <td>3</td>\n",
              "      <td>40</td>\n",
              "      <td>454290.0</td>\n",
              "    </tr>\n",
              "    <tr>\n",
              "      <th>3</th>\n",
              "      <td>4</td>\n",
              "      <td>1.0</td>\n",
              "      <td>4.0500</td>\n",
              "      <td>1.232</td>\n",
              "      <td>1.0</td>\n",
              "      <td>6</td>\n",
              "      <td>3</td>\n",
              "      <td>54</td>\n",
              "      <td>455730.0</td>\n",
              "    </tr>\n",
              "    <tr>\n",
              "      <th>4</th>\n",
              "      <td>5</td>\n",
              "      <td>1.0</td>\n",
              "      <td>4.4550</td>\n",
              "      <td>1.121</td>\n",
              "      <td>1.0</td>\n",
              "      <td>6</td>\n",
              "      <td>3</td>\n",
              "      <td>42</td>\n",
              "      <td>505970.0</td>\n",
              "    </tr>\n",
              "    <tr>\n",
              "      <th>5</th>\n",
              "      <td>6</td>\n",
              "      <td>1.0</td>\n",
              "      <td>4.4550</td>\n",
              "      <td>0.988</td>\n",
              "      <td>1.0</td>\n",
              "      <td>6</td>\n",
              "      <td>3</td>\n",
              "      <td>56</td>\n",
              "      <td>389100.0</td>\n",
              "    </tr>\n",
              "    <tr>\n",
              "      <th>6</th>\n",
              "      <td>7</td>\n",
              "      <td>1.0</td>\n",
              "      <td>5.8500</td>\n",
              "      <td>1.240</td>\n",
              "      <td>1.0</td>\n",
              "      <td>7</td>\n",
              "      <td>3</td>\n",
              "      <td>51</td>\n",
              "      <td>589800.0</td>\n",
              "    </tr>\n",
              "    <tr>\n",
              "      <th>7</th>\n",
              "      <td>8</td>\n",
              "      <td>1.0</td>\n",
              "      <td>9.5200</td>\n",
              "      <td>1.501</td>\n",
              "      <td>0.0</td>\n",
              "      <td>6</td>\n",
              "      <td>3</td>\n",
              "      <td>32</td>\n",
              "      <td>560390.0</td>\n",
              "    </tr>\n",
              "    <tr>\n",
              "      <th>8</th>\n",
              "      <td>9</td>\n",
              "      <td>2.5</td>\n",
              "      <td>9.8000</td>\n",
              "      <td>3.420</td>\n",
              "      <td>2.0</td>\n",
              "      <td>10</td>\n",
              "      <td>5</td>\n",
              "      <td>42</td>\n",
              "      <td>1642020.0</td>\n",
              "    </tr>\n",
              "    <tr>\n",
              "      <th>9</th>\n",
              "      <td>10</td>\n",
              "      <td>2.5</td>\n",
              "      <td>12.8000</td>\n",
              "      <td>3.000</td>\n",
              "      <td>2.0</td>\n",
              "      <td>9</td>\n",
              "      <td>5</td>\n",
              "      <td>14</td>\n",
              "      <td>1445980.0</td>\n",
              "    </tr>\n",
              "    <tr>\n",
              "      <th>10</th>\n",
              "      <td>11</td>\n",
              "      <td>1.0</td>\n",
              "      <td>6.4350</td>\n",
              "      <td>1.225</td>\n",
              "      <td>2.0</td>\n",
              "      <td>6</td>\n",
              "      <td>3</td>\n",
              "      <td>32</td>\n",
              "      <td>582820.0</td>\n",
              "    </tr>\n",
              "    <tr>\n",
              "      <th>11</th>\n",
              "      <td>12</td>\n",
              "      <td>1.0</td>\n",
              "      <td>4.9883</td>\n",
              "      <td>1.552</td>\n",
              "      <td>1.0</td>\n",
              "      <td>6</td>\n",
              "      <td>3</td>\n",
              "      <td>30</td>\n",
              "      <td>530030.0</td>\n",
              "    </tr>\n",
              "    <tr>\n",
              "      <th>12</th>\n",
              "      <td>13</td>\n",
              "      <td>1.0</td>\n",
              "      <td>5.5200</td>\n",
              "      <td>0.975</td>\n",
              "      <td>1.0</td>\n",
              "      <td>5</td>\n",
              "      <td>2</td>\n",
              "      <td>30</td>\n",
              "      <td>627120.0</td>\n",
              "    </tr>\n",
              "    <tr>\n",
              "      <th>13</th>\n",
              "      <td>14</td>\n",
              "      <td>1.0</td>\n",
              "      <td>6.6660</td>\n",
              "      <td>1.121</td>\n",
              "      <td>2.0</td>\n",
              "      <td>6</td>\n",
              "      <td>3</td>\n",
              "      <td>32</td>\n",
              "      <td>595920.0</td>\n",
              "    </tr>\n",
              "    <tr>\n",
              "      <th>14</th>\n",
              "      <td>15</td>\n",
              "      <td>1.0</td>\n",
              "      <td>5.0000</td>\n",
              "      <td>1.020</td>\n",
              "      <td>0.0</td>\n",
              "      <td>5</td>\n",
              "      <td>2</td>\n",
              "      <td>46</td>\n",
              "      <td>505000.0</td>\n",
              "    </tr>\n",
              "    <tr>\n",
              "      <th>15</th>\n",
              "      <td>16</td>\n",
              "      <td>1.0</td>\n",
              "      <td>9.5200</td>\n",
              "      <td>1.501</td>\n",
              "      <td>0.0</td>\n",
              "      <td>6</td>\n",
              "      <td>3</td>\n",
              "      <td>32</td>\n",
              "      <td>560390.0</td>\n",
              "    </tr>\n",
              "    <tr>\n",
              "      <th>16</th>\n",
              "      <td>17</td>\n",
              "      <td>1.5</td>\n",
              "      <td>5.1500</td>\n",
              "      <td>1.664</td>\n",
              "      <td>2.0</td>\n",
              "      <td>8</td>\n",
              "      <td>4</td>\n",
              "      <td>50</td>\n",
              "      <td>824640.0</td>\n",
              "    </tr>\n",
              "    <tr>\n",
              "      <th>17</th>\n",
              "      <td>18</td>\n",
              "      <td>1.5</td>\n",
              "      <td>6.9020</td>\n",
              "      <td>1.488</td>\n",
              "      <td>1.5</td>\n",
              "      <td>7</td>\n",
              "      <td>3</td>\n",
              "      <td>22</td>\n",
              "      <td>669690.0</td>\n",
              "    </tr>\n",
              "    <tr>\n",
              "      <th>18</th>\n",
              "      <td>19</td>\n",
              "      <td>1.5</td>\n",
              "      <td>7.1020</td>\n",
              "      <td>1.376</td>\n",
              "      <td>1.0</td>\n",
              "      <td>6</td>\n",
              "      <td>3</td>\n",
              "      <td>17</td>\n",
              "      <td>778410.0</td>\n",
              "    </tr>\n",
              "    <tr>\n",
              "      <th>19</th>\n",
              "      <td>20</td>\n",
              "      <td>1.0</td>\n",
              "      <td>7.8000</td>\n",
              "      <td>1.500</td>\n",
              "      <td>1.5</td>\n",
              "      <td>7</td>\n",
              "      <td>3</td>\n",
              "      <td>23</td>\n",
              "      <td>903840.0</td>\n",
              "    </tr>\n",
              "  </tbody>\n",
              "</table>\n",
              "</div>\n",
              "    <div class=\"colab-df-buttons\">\n",
              "\n",
              "  <div class=\"colab-df-container\">\n",
              "    <button class=\"colab-df-convert\" onclick=\"convertToInteractive('df-626d0ba1-d0e4-4a48-b66c-f7e33e807e4f')\"\n",
              "            title=\"Convert this dataframe to an interactive table.\"\n",
              "            style=\"display:none;\">\n",
              "\n",
              "  <svg xmlns=\"http://www.w3.org/2000/svg\" height=\"24px\" viewBox=\"0 -960 960 960\">\n",
              "    <path d=\"M120-120v-720h720v720H120Zm60-500h600v-160H180v160Zm220 220h160v-160H400v160Zm0 220h160v-160H400v160ZM180-400h160v-160H180v160Zm440 0h160v-160H620v160ZM180-180h160v-160H180v160Zm440 0h160v-160H620v160Z\"/>\n",
              "  </svg>\n",
              "    </button>\n",
              "\n",
              "  <style>\n",
              "    .colab-df-container {\n",
              "      display:flex;\n",
              "      gap: 12px;\n",
              "    }\n",
              "\n",
              "    .colab-df-convert {\n",
              "      background-color: #E8F0FE;\n",
              "      border: none;\n",
              "      border-radius: 50%;\n",
              "      cursor: pointer;\n",
              "      display: none;\n",
              "      fill: #1967D2;\n",
              "      height: 32px;\n",
              "      padding: 0 0 0 0;\n",
              "      width: 32px;\n",
              "    }\n",
              "\n",
              "    .colab-df-convert:hover {\n",
              "      background-color: #E2EBFA;\n",
              "      box-shadow: 0px 1px 2px rgba(60, 64, 67, 0.3), 0px 1px 3px 1px rgba(60, 64, 67, 0.15);\n",
              "      fill: #174EA6;\n",
              "    }\n",
              "\n",
              "    .colab-df-buttons div {\n",
              "      margin-bottom: 4px;\n",
              "    }\n",
              "\n",
              "    [theme=dark] .colab-df-convert {\n",
              "      background-color: #3B4455;\n",
              "      fill: #D2E3FC;\n",
              "    }\n",
              "\n",
              "    [theme=dark] .colab-df-convert:hover {\n",
              "      background-color: #434B5C;\n",
              "      box-shadow: 0px 1px 3px 1px rgba(0, 0, 0, 0.15);\n",
              "      filter: drop-shadow(0px 1px 2px rgba(0, 0, 0, 0.3));\n",
              "      fill: #FFFFFF;\n",
              "    }\n",
              "  </style>\n",
              "\n",
              "    <script>\n",
              "      const buttonEl =\n",
              "        document.querySelector('#df-626d0ba1-d0e4-4a48-b66c-f7e33e807e4f button.colab-df-convert');\n",
              "      buttonEl.style.display =\n",
              "        google.colab.kernel.accessAllowed ? 'block' : 'none';\n",
              "\n",
              "      async function convertToInteractive(key) {\n",
              "        const element = document.querySelector('#df-626d0ba1-d0e4-4a48-b66c-f7e33e807e4f');\n",
              "        const dataTable =\n",
              "          await google.colab.kernel.invokeFunction('convertToInteractive',\n",
              "                                                    [key], {});\n",
              "        if (!dataTable) return;\n",
              "\n",
              "        const docLinkHtml = 'Like what you see? Visit the ' +\n",
              "          '<a target=\"_blank\" href=https://colab.research.google.com/notebooks/data_table.ipynb>data table notebook</a>'\n",
              "          + ' to learn more about interactive tables.';\n",
              "        element.innerHTML = '';\n",
              "        dataTable['output_type'] = 'display_data';\n",
              "        await google.colab.output.renderOutput(dataTable, element);\n",
              "        const docLink = document.createElement('div');\n",
              "        docLink.innerHTML = docLinkHtml;\n",
              "        element.appendChild(docLink);\n",
              "      }\n",
              "    </script>\n",
              "  </div>\n",
              "\n",
              "\n",
              "<div id=\"df-404dd0ea-10f2-44b1-a0d1-98762105604e\">\n",
              "  <button class=\"colab-df-quickchart\" onclick=\"quickchart('df-404dd0ea-10f2-44b1-a0d1-98762105604e')\"\n",
              "            title=\"Suggest charts\"\n",
              "            style=\"display:none;\">\n",
              "\n",
              "<svg xmlns=\"http://www.w3.org/2000/svg\" height=\"24px\"viewBox=\"0 0 24 24\"\n",
              "     width=\"24px\">\n",
              "    <g>\n",
              "        <path d=\"M19 3H5c-1.1 0-2 .9-2 2v14c0 1.1.9 2 2 2h14c1.1 0 2-.9 2-2V5c0-1.1-.9-2-2-2zM9 17H7v-7h2v7zm4 0h-2V7h2v10zm4 0h-2v-4h2v4z\"/>\n",
              "    </g>\n",
              "</svg>\n",
              "  </button>\n",
              "\n",
              "<style>\n",
              "  .colab-df-quickchart {\n",
              "      --bg-color: #E8F0FE;\n",
              "      --fill-color: #1967D2;\n",
              "      --hover-bg-color: #E2EBFA;\n",
              "      --hover-fill-color: #174EA6;\n",
              "      --disabled-fill-color: #AAA;\n",
              "      --disabled-bg-color: #DDD;\n",
              "  }\n",
              "\n",
              "  [theme=dark] .colab-df-quickchart {\n",
              "      --bg-color: #3B4455;\n",
              "      --fill-color: #D2E3FC;\n",
              "      --hover-bg-color: #434B5C;\n",
              "      --hover-fill-color: #FFFFFF;\n",
              "      --disabled-bg-color: #3B4455;\n",
              "      --disabled-fill-color: #666;\n",
              "  }\n",
              "\n",
              "  .colab-df-quickchart {\n",
              "    background-color: var(--bg-color);\n",
              "    border: none;\n",
              "    border-radius: 50%;\n",
              "    cursor: pointer;\n",
              "    display: none;\n",
              "    fill: var(--fill-color);\n",
              "    height: 32px;\n",
              "    padding: 0;\n",
              "    width: 32px;\n",
              "  }\n",
              "\n",
              "  .colab-df-quickchart:hover {\n",
              "    background-color: var(--hover-bg-color);\n",
              "    box-shadow: 0 1px 2px rgba(60, 64, 67, 0.3), 0 1px 3px 1px rgba(60, 64, 67, 0.15);\n",
              "    fill: var(--button-hover-fill-color);\n",
              "  }\n",
              "\n",
              "  .colab-df-quickchart-complete:disabled,\n",
              "  .colab-df-quickchart-complete:disabled:hover {\n",
              "    background-color: var(--disabled-bg-color);\n",
              "    fill: var(--disabled-fill-color);\n",
              "    box-shadow: none;\n",
              "  }\n",
              "\n",
              "  .colab-df-spinner {\n",
              "    border: 2px solid var(--fill-color);\n",
              "    border-color: transparent;\n",
              "    border-bottom-color: var(--fill-color);\n",
              "    animation:\n",
              "      spin 1s steps(1) infinite;\n",
              "  }\n",
              "\n",
              "  @keyframes spin {\n",
              "    0% {\n",
              "      border-color: transparent;\n",
              "      border-bottom-color: var(--fill-color);\n",
              "      border-left-color: var(--fill-color);\n",
              "    }\n",
              "    20% {\n",
              "      border-color: transparent;\n",
              "      border-left-color: var(--fill-color);\n",
              "      border-top-color: var(--fill-color);\n",
              "    }\n",
              "    30% {\n",
              "      border-color: transparent;\n",
              "      border-left-color: var(--fill-color);\n",
              "      border-top-color: var(--fill-color);\n",
              "      border-right-color: var(--fill-color);\n",
              "    }\n",
              "    40% {\n",
              "      border-color: transparent;\n",
              "      border-right-color: var(--fill-color);\n",
              "      border-top-color: var(--fill-color);\n",
              "    }\n",
              "    60% {\n",
              "      border-color: transparent;\n",
              "      border-right-color: var(--fill-color);\n",
              "    }\n",
              "    80% {\n",
              "      border-color: transparent;\n",
              "      border-right-color: var(--fill-color);\n",
              "      border-bottom-color: var(--fill-color);\n",
              "    }\n",
              "    90% {\n",
              "      border-color: transparent;\n",
              "      border-bottom-color: var(--fill-color);\n",
              "    }\n",
              "  }\n",
              "</style>\n",
              "\n",
              "  <script>\n",
              "    async function quickchart(key) {\n",
              "      const quickchartButtonEl =\n",
              "        document.querySelector('#' + key + ' button');\n",
              "      quickchartButtonEl.disabled = true;  // To prevent multiple clicks.\n",
              "      quickchartButtonEl.classList.add('colab-df-spinner');\n",
              "      try {\n",
              "        const charts = await google.colab.kernel.invokeFunction(\n",
              "            'suggestCharts', [key], {});\n",
              "      } catch (error) {\n",
              "        console.error('Error during call to suggestCharts:', error);\n",
              "      }\n",
              "      quickchartButtonEl.classList.remove('colab-df-spinner');\n",
              "      quickchartButtonEl.classList.add('colab-df-quickchart-complete');\n",
              "    }\n",
              "    (() => {\n",
              "      let quickchartButtonEl =\n",
              "        document.querySelector('#df-404dd0ea-10f2-44b1-a0d1-98762105604e button');\n",
              "      quickchartButtonEl.style.display =\n",
              "        google.colab.kernel.accessAllowed ? 'block' : 'none';\n",
              "    })();\n",
              "  </script>\n",
              "</div>\n",
              "\n",
              "  <div id=\"id_d7f9b9e8-740d-46ae-8f96-96a5c91d8cad\">\n",
              "    <style>\n",
              "      .colab-df-generate {\n",
              "        background-color: #E8F0FE;\n",
              "        border: none;\n",
              "        border-radius: 50%;\n",
              "        cursor: pointer;\n",
              "        display: none;\n",
              "        fill: #1967D2;\n",
              "        height: 32px;\n",
              "        padding: 0 0 0 0;\n",
              "        width: 32px;\n",
              "      }\n",
              "\n",
              "      .colab-df-generate:hover {\n",
              "        background-color: #E2EBFA;\n",
              "        box-shadow: 0px 1px 2px rgba(60, 64, 67, 0.3), 0px 1px 3px 1px rgba(60, 64, 67, 0.15);\n",
              "        fill: #174EA6;\n",
              "      }\n",
              "\n",
              "      [theme=dark] .colab-df-generate {\n",
              "        background-color: #3B4455;\n",
              "        fill: #D2E3FC;\n",
              "      }\n",
              "\n",
              "      [theme=dark] .colab-df-generate:hover {\n",
              "        background-color: #434B5C;\n",
              "        box-shadow: 0px 1px 3px 1px rgba(0, 0, 0, 0.15);\n",
              "        filter: drop-shadow(0px 1px 2px rgba(0, 0, 0, 0.3));\n",
              "        fill: #FFFFFF;\n",
              "      }\n",
              "    </style>\n",
              "    <button class=\"colab-df-generate\" onclick=\"generateWithVariable('train_data')\"\n",
              "            title=\"Generate code using this dataframe.\"\n",
              "            style=\"display:none;\">\n",
              "\n",
              "  <svg xmlns=\"http://www.w3.org/2000/svg\" height=\"24px\"viewBox=\"0 0 24 24\"\n",
              "       width=\"24px\">\n",
              "    <path d=\"M7,19H8.4L18.45,9,17,7.55,7,17.6ZM5,21V16.75L18.45,3.32a2,2,0,0,1,2.83,0l1.4,1.43a1.91,1.91,0,0,1,.58,1.4,1.91,1.91,0,0,1-.58,1.4L9.25,21ZM18.45,9,17,7.55Zm-12,3A5.31,5.31,0,0,0,4.9,8.1,5.31,5.31,0,0,0,1,6.5,5.31,5.31,0,0,0,4.9,4.9,5.31,5.31,0,0,0,6.5,1,5.31,5.31,0,0,0,8.1,4.9,5.31,5.31,0,0,0,12,6.5,5.46,5.46,0,0,0,6.5,12Z\"/>\n",
              "  </svg>\n",
              "    </button>\n",
              "    <script>\n",
              "      (() => {\n",
              "      const buttonEl =\n",
              "        document.querySelector('#id_d7f9b9e8-740d-46ae-8f96-96a5c91d8cad button.colab-df-generate');\n",
              "      buttonEl.style.display =\n",
              "        google.colab.kernel.accessAllowed ? 'block' : 'none';\n",
              "\n",
              "      buttonEl.onclick = () => {\n",
              "        google.colab.notebook.generateWithVariable('train_data');\n",
              "      }\n",
              "      })();\n",
              "    </script>\n",
              "  </div>\n",
              "\n",
              "    </div>\n",
              "  </div>\n"
            ],
            "application/vnd.google.colaboratory.intrinsic+json": {
              "type": "dataframe",
              "variable_name": "train_data",
              "summary": "{\n  \"name\": \"train_data\",\n  \"rows\": 20,\n  \"fields\": [\n    {\n      \"column\": \"House ID\",\n      \"properties\": {\n        \"dtype\": \"number\",\n        \"std\": 5,\n        \"min\": 1,\n        \"max\": 20,\n        \"num_unique_values\": 20,\n        \"samples\": [\n          1,\n          18,\n          16\n        ],\n        \"semantic_type\": \"\",\n        \"description\": \"\"\n      }\n    },\n    {\n      \"column\": \"Bathrooms\",\n      \"properties\": {\n        \"dtype\": \"number\",\n        \"std\": 0.4722566206941663,\n        \"min\": 1.0,\n        \"max\": 2.5,\n        \"num_unique_values\": 3,\n        \"samples\": [\n          1.0,\n          2.5,\n          1.5\n        ],\n        \"semantic_type\": \"\",\n        \"description\": \"\"\n      }\n    },\n    {\n      \"column\": \"Land Area\",\n      \"properties\": {\n        \"dtype\": \"number\",\n        \"std\": 2.5945241233423255,\n        \"min\": 2.275,\n        \"max\": 12.8,\n        \"num_unique_values\": 18,\n        \"samples\": [\n          3.472,\n          3.531,\n          12.8\n        ],\n        \"semantic_type\": \"\",\n        \"description\": \"\"\n      }\n    },\n    {\n      \"column\": \"Living area\",\n      \"properties\": {\n        \"dtype\": \"number\",\n        \"std\": 0.6325192133549445,\n        \"min\": 0.975,\n        \"max\": 3.42,\n        \"num_unique_values\": 17,\n        \"samples\": [\n          0.998,\n          1.5,\n          0.988\n        ],\n        \"semantic_type\": \"\",\n        \"description\": \"\"\n      }\n    },\n    {\n      \"column\": \"# Garages\",\n      \"properties\": {\n        \"dtype\": \"number\",\n        \"std\": 0.6766791978789545,\n        \"min\": 0.0,\n        \"max\": 2.0,\n        \"num_unique_values\": 4,\n        \"samples\": [\n          2.0,\n          1.5,\n          1.0\n        ],\n        \"semantic_type\": \"\",\n        \"description\": \"\"\n      }\n    },\n    {\n      \"column\": \"# Rooms\",\n      \"properties\": {\n        \"dtype\": \"number\",\n        \"std\": 1,\n        \"min\": 5,\n        \"max\": 10,\n        \"num_unique_values\": 6,\n        \"samples\": [\n          7,\n          6,\n          8\n        ],\n        \"semantic_type\": \"\",\n        \"description\": \"\"\n      }\n    },\n    {\n      \"column\": \"# Bedrooms\",\n      \"properties\": {\n        \"dtype\": \"number\",\n        \"std\": 0,\n        \"min\": 2,\n        \"max\": 5,\n        \"num_unique_values\": 4,\n        \"samples\": [\n          3,\n          2,\n          4\n        ],\n        \"semantic_type\": \"\",\n        \"description\": \"\"\n      }\n    },\n    {\n      \"column\": \"Age of home\",\n      \"properties\": {\n        \"dtype\": \"number\",\n        \"std\": 13,\n        \"min\": 14,\n        \"max\": 62,\n        \"num_unique_values\": 14,\n        \"samples\": [\n          46,\n          22,\n          42\n        ],\n        \"semantic_type\": \"\",\n        \"description\": \"\"\n      }\n    },\n    {\n      \"column\": \"Price\",\n      \"properties\": {\n        \"dtype\": \"number\",\n        \"std\": 323258.7744874962,\n        \"min\": 389100.0,\n        \"max\": 1642020.0000000002,\n        \"num_unique_values\": 19,\n        \"samples\": [\n          491760.0,\n          389100.0,\n          530030.0\n        ],\n        \"semantic_type\": \"\",\n        \"description\": \"\"\n      }\n    }\n  ]\n}"
            }
          },
          "metadata": {},
          "execution_count": 39
        }
      ]
    },
    {
      "cell_type": "code",
      "source": [
        "#Answer Q1\n",
        "import numpy as np\n",
        "import matplotlib.pyplot as plt\n",
        "import pandas as pd\n",
        "x_train = x_train[:, np.newaxis]\n",
        "x = np.insert(x_train, 0, 1.0, axis=1)\n",
        "x = np.insert(x_train, 0, 1.0, axis=1)\n",
        "\n",
        "x_train = np.load(\"/content/x_train.npy\")\n",
        "x_test = np.load(\"/content/x_test.npy\")\n",
        "y_train = np.load(\"/content/y_train.npy\")\n",
        "y_test = np.load(\"/content/y_test.npy\")\n",
        "\n",
        "y = y_train\n",
        "\n",
        "f = plt.figure(figsize=(10, 3))\n",
        "ax = f.add_subplot(121)\n",
        "ax2 = f.add_subplot(122)\n",
        "\n",
        "ax.scatter(x_train, y_train)\n",
        "ax2.scatter(x_test, y_test)\n",
        "\n"
      ],
      "metadata": {
        "id": "ijGvh3MHJeOb",
        "colab": {
          "base_uri": "https://localhost:8080/",
          "height": 328
        },
        "outputId": "26f8d030-2245-455f-a6e7-0b5d525873cd"
      },
      "execution_count": 44,
      "outputs": [
        {
          "output_type": "execute_result",
          "data": {
            "text/plain": [
              "<matplotlib.collections.PathCollection at 0x7b19ea3ceaa0>"
            ]
          },
          "metadata": {},
          "execution_count": 44
        },
        {
          "output_type": "display_data",
          "data": {
            "text/plain": [
              "<Figure size 1000x300 with 2 Axes>"
            ],
            "image/png": "[encoded data removed]"
          },
          "metadata": {}
        }
      ]
    },
    {
      "cell_type": "markdown",
      "source": [
        "#Q1-2\n",
        "a-\n",
        "the plot on the left shows the relationship between the training data (x_train) and the corresponding labels (y_train), while the plot on the right shows the relationship between the testing data (x_test) and their labels (y_test). By looking at this relationship we can tell it is not linera\n",
        "b-\n",
        "to add non-lineartiry we do need to perform feature engineering.\n",
        "c-\n",
        "we can create new features to reaise the predicte value to the powers of 2, 3, and 5, representing polynomial degrees of 3rd and 5th.\n",
        "d-\n",
        "The functions we can try is to include the 3rd and 5th degree polynomial models, by adding features like x^2, x^3, and x^5 to the dataset"
      ],
      "metadata": {
        "id": "qW5eJPMnnI-s"
      }
    },
    {
      "cell_type": "code",
      "source": [
        "lr = 0.1\n",
        "np.random.seed(10)\n",
        "degree = 2\n",
        "\n",
        "x_train = np.load(\"/content/x_train.npy\")\n",
        "y_train = np.load(\"/content/y_train.npy\")\n",
        "x_test = np.load(\"/content/x_test.npy\")\n",
        "y_test = np.load(\"/content/y_test.npy\")\n",
        "\n",
        "# Reshape x_train and x_test to 2D arrays\n",
        "x_train = x_train[:, np.newaxis]  # (100,) -> (100, 1)\n",
        "x_test = x_test[:, np.newaxis]    # (100,) -> (100, 1)\n",
        "\n",
        "# Initialize random parameters for the polynomial equation\n",
        "theta = np.random.rand(degree + 1)\n",
        "\n",
        "# Add polynomial features\n",
        "def add_polynomial_features(x, degree):\n",
        "    x_poly = np.hstack([x ** i for i in range(1, degree + 1)])  # Generates polynomial features\n",
        "    x_poly = np.insert(x_poly, 0, 1, axis=1)  # Insert bias term (ones) as the first column\n",
        "    return x_poly\n",
        "\n",
        "def gradient_descent(x, y, theta, lr, degree):\n",
        "    m = len(y)\n",
        "    x_poly = add_polynomial_features(x, degree)\n",
        "    cost_list = []\n",
        "    theta_list = []\n",
        "\n",
        "    while True:\n",
        "        prediction = np.dot(x_poly, theta)\n",
        "        error = prediction - y\n",
        "        cost = 1 / (2 * m) * np.dot(error.T, error)\n",
        "        theta = theta - (lr / m) * np.dot(x_poly.T, error)\n",
        "\n",
        "        cost_list.append(cost)\n",
        "        theta_list.append(theta)\n",
        "\n",
        "        if len(cost_list) > 1 and np.abs(cost_list[-2] - cost_list[-1]) < 1e-9:\n",
        "            break\n",
        "\n",
        "    return theta, cost_list, theta_list\n",
        "\n",
        "theta, cost_list, theta_list = gradient_descent(x_train, y_train, theta, lr, degree)\n",
        "\n",
        "x_test_poly = add_polynomial_features(x_test, degree)\n",
        "y_pred = np.dot(x_test_poly, theta)\n",
        "\n",
        "# Calculate the MSE\n",
        "mse_test = ((y_pred - y_test) ** 2).mean()\n",
        "print(f'The Mean Square Error (MSE) on the test data is: {mse_test}')\n",
        "\n",
        "# Calculate the R-squared for the test data\n",
        "y_mean = np.mean(y_test)\n",
        "ss_tot = np.sum((y_test - y_mean) ** 2)\n",
        "ss_res = np.sum((y_pred - y_mean) ** 2)\n",
        "r_squared = 1 - (ss_res / ss_tot)\n",
        "print(f'The R-squared value on the test data is: {r_squared}')\n",
        "\n",
        "\n"
      ],
      "metadata": {
        "colab": {
          "base_uri": "https://localhost:8080/"
        },
        "id": "NKB0vh6ZN-Zt",
        "outputId": "978d840a-dd5e-46e6-9265-c06737dae2f9"
      },
      "execution_count": 19,
      "outputs": [
        {
          "output_type": "stream",
          "name": "stdout",
          "text": [
            "The Mean Square Error (MSE) on the test data is: 29078.00003834567\n",
            "The R-squared value on the test data is: -614.2301874794407\n"
          ]
        }
      ]
    },
    {
      "cell_type": "code",
      "source": [
        "prediction = np.dot(add_polynomial_features(x_train, degree), theta)\n",
        "\n",
        "plt.scatter(x_train, y_train, label='Original Data')\n",
        "plt.scatter(x_train, prediction, label='Predicted Data', color='red')\n",
        "plt.title('Original Data vs. Predicted Data')\n",
        "plt.legend(loc='upper left')\n",
        "plt.show()\n"
      ],
      "metadata": {
        "colab": {
          "base_uri": "https://localhost:8080/",
          "height": 452
        },
        "id": "_5m8WwzIMKes",
        "outputId": "39d95a01-de75-4dcb-86fc-589e8fd9ef30"
      },
      "execution_count": 21,
      "outputs": [
        {
          "output_type": "display_data",
          "data": {
            "text/plain": [
              "<Figure size 640x480 with 1 Axes>"
            ],
            "image/png": "[encoded data removed]"
          },
          "metadata": {}
        }
      ]
    },
    {
      "cell_type": "code",
      "source": [
        "\n",
        "x_train_df = pd.DataFrame(x_train)\n",
        "x_train_df['x^2'] = x_train_df[0] ** 2\n",
        "x_train_df['x^3'] = x_train_df[0] ** 3\n",
        "x_train_enhanced = np.array(x_train_df)\n",
        "\n",
        "x_test_df = pd.DataFrame(x_test)\n",
        "x_test_df['x^2'] = x_test_df[0] ** 2\n",
        "x_test_df['x^3'] = x_test_df[0] ** 3\n",
        "x_test_enhanced = np.array(x_test_df)\n",
        "\n"
      ],
      "metadata": {
        "id": "xsJ4-txIkXb0"
      },
      "execution_count": 22,
      "outputs": []
    },
    {
      "cell_type": "code",
      "source": [
        "def gradient_descent(X, y, lr, iterations):\n",
        "    m = y.size\n",
        "    # Initialize theta with a random value for each feature\n",
        "    theta = np.random.rand(X.shape[1])\n",
        "\n",
        "    cost_list = []\n",
        "    for _ in range(iterations):\n",
        "        predictions = np.dot(X, theta)\n",
        "        error = predictions - y\n",
        "        cost = (1 / (2 * m)) * np.dot(error.T, error)\n",
        "        theta -= (lr / m) * np.dot(X.T, error)\n",
        "\n",
        "        cost_list.append(cost)\n",
        "\n",
        "    return theta, cost_list\n"
      ],
      "metadata": {
        "id": "ymrSaBpskzxG"
      },
      "execution_count": 23,
      "outputs": []
    },
    {
      "cell_type": "code",
      "source": [
        "lr = 0.01\n",
        "iterations = 10000\n",
        "theta, cost_history = gradient_descent(x_train_enhanced, y_train, lr, iterations)\n",
        "\n",
        "print(f\"Optimized theta: {theta}\")\n"
      ],
      "metadata": {
        "colab": {
          "base_uri": "https://localhost:8080/"
        },
        "id": "NTCGpJUKk3Kq",
        "outputId": "4a34f702-0c9b-4f8d-c334-61824e5de74e"
      },
      "execution_count": 24,
      "outputs": [
        {
          "output_type": "stream",
          "name": "stdout",
          "text": [
            "Optimized theta: [-183.76315872  -45.94693575   86.46740717]\n"
          ]
        }
      ]
    },
    {
      "cell_type": "code",
      "source": [
        "# Make predictions on both training and testing data\n",
        "predictions_train = np.dot(x_train_enhanced, theta)\n",
        "predictions_test = np.dot(x_test_enhanced, theta)\n",
        "\n",
        "# Calculate MSE\n",
        "mse_train = np.mean((predictions_train - y_train) ** 2)\n",
        "mse_test = np.mean((predictions_test - y_test) ** 2)\n",
        "\n",
        "print(f\"Training MSE: {mse_train}\")\n",
        "print(f\"Testing MSE: {mse_test}\")\n",
        "\n",
        "# Calculate R-squared\n",
        "y_bar_train = np.mean(y_train)\n",
        "ss_res_train = np.sum((y_train - predictions_train) ** 2)\n",
        "ss_tot_train = np.sum((y_train - y_bar_train) ** 2)\n",
        "r_squared_train = 1 - (ss_res_train / ss_tot_train)\n",
        "\n",
        "print(f\"Training R-squared: {r_squared_train}\")\n",
        "\n",
        "\n",
        "y_bar_test = np.mean(y_test)\n",
        "ss_res_test = np.sum((y_test - predictions_test) ** 2)\n",
        "ss_tot_test = np.sum((y_test - y_bar_test) ** 2)\n",
        "r_squared_test = 1 - (ss_res_test / ss_tot_test)\n",
        "\n",
        "print(f\"Testing R-squared: {r_squared_test}\")\n"
      ],
      "metadata": {
        "colab": {
          "base_uri": "https://localhost:8080/"
        },
        "id": "oaQ4Yybek5lf",
        "outputId": "af112478-2ebe-421e-a299-0210703f8c4d"
      },
      "execution_count": 25,
      "outputs": [
        {
          "output_type": "stream",
          "name": "stdout",
          "text": [
            "Training MSE: 19171.019655303164\n",
            "Testing MSE: 8591.74493851313\n",
            "Training R-squared: 0.955723392831118\n",
            "Testing R-squared: -167.4925887480499\n"
          ]
        }
      ]
    },
    {
      "cell_type": "code",
      "source": [
        "\n",
        "# Plot the original data\n",
        "plt.scatter(x_train, y_train, label='Original Data')\n",
        "\n",
        "# Plot the model predictions with 3rd degree features\n",
        "plt.scatter(x_train, predictions_train, label='3rd Degree Feature Data', color='red', alpha=0.5)\n",
        "\n",
        "plt.title('Original Data V 3rd Degree')\n",
        "plt.xlabel('x_train')\n",
        "plt.ylabel('y_train')\n",
        "plt.legend(loc='upper left')\n",
        "plt.show()\n",
        "\n"
      ],
      "metadata": {
        "colab": {
          "base_uri": "https://localhost:8080/",
          "height": 472
        },
        "id": "VVQVXk-Mk7Pc",
        "outputId": "58996ee8-d550-4e07-a215-099486ece8fc"
      },
      "execution_count": 26,
      "outputs": [
        {
          "output_type": "display_data",
          "data": {
            "text/plain": [
              "<Figure size 640x480 with 1 Axes>"
            ],
            "image/png": "[encoded data removed]"
          },
          "metadata": {}
        }
      ]
    },
    {
      "cell_type": "code",
      "source": [
        "\n",
        "x_train = np.load('/content/x_train.npy')\n",
        "y_train = np.load('/content/y_train.npy')\n",
        "x_test = np.load('/content/x_test.npy')\n",
        "y_test = np.load('/content/y_test.npy')\n",
        "\n",
        "x_train_df = pd.DataFrame(x_train)\n",
        " # Add 2nd to 5th degree features\n",
        "for i in range(2, 6):\n",
        "    x_train_df[str(i)] = x_train_df[0] ** i\n",
        "x_train_enhanced = np.array(x_train_df)\n",
        "\n",
        "\n",
        "x_test_df = pd.DataFrame(x_test)\n",
        "for i in range(2, 6):\n",
        "    x_test_df[str(i)] = x_test_df[0] ** i\n",
        "x_test_enhanced = np.array(x_test_df)\n"
      ],
      "metadata": {
        "id": "6juuncuPjp9H"
      },
      "execution_count": 27,
      "outputs": []
    },
    {
      "cell_type": "code",
      "source": [
        "def gradient_descent(X, y, lr, iterations):\n",
        "    m = y.size\n",
        "    theta = np.random.rand(X.shape[1])\n",
        "\n",
        "    cost_list = []\n",
        "    for _ in range(iterations):\n",
        "        predictions = X.dot(theta)\n",
        "        error = predictions - y\n",
        "        cost = (1 / (2 * m)) * np.dot(error.T, error)\n",
        "        theta -= (lr / m) * X.T.dot(error)\n",
        "\n",
        "        cost_list.append(cost)\n",
        "\n",
        "    return theta, cost_list\n"
      ],
      "metadata": {
        "id": "URShj9AfjsGJ"
      },
      "execution_count": 28,
      "outputs": []
    },
    {
      "cell_type": "code",
      "source": [
        "lr = 0.0001\n",
        "iterations = 10000\n",
        "theta_optimal, cost_history = gradient_descent(x_train_enhanced, y_train, lr, iterations)\n",
        "print(f'Optimal Parameters: {theta_optimal}')\n"
      ],
      "metadata": {
        "colab": {
          "base_uri": "https://localhost:8080/"
        },
        "id": "5T3GKNcljvzG",
        "outputId": "fcfe893f-a8ee-4bae-e7c9-6c4a9891a9bb"
      },
      "execution_count": 29,
      "outputs": [
        {
          "output_type": "stream",
          "name": "stdout",
          "text": [
            "Optimal Parameters: [  0.25048931   2.72879408 -25.27598109  -7.99335099  11.76931305]\n"
          ]
        }
      ]
    },
    {
      "cell_type": "code",
      "source": [
        "\n",
        "predictions_train = x_train_enhanced.dot(theta_optimal)\n",
        "predictions_test = x_test_enhanced.dot(theta_optimal)\n",
        "\n",
        "# Calculate MSE\n",
        "mse_train = np.mean((predictions_train - y_train) ** 2)\n",
        "mse_test = np.mean((predictions_test - y_test) ** 2)\n",
        "\n",
        "print(f'Training MSE: {mse_train}')\n",
        "print(f'Test MSE: {mse_test}')\n",
        "\n",
        "# Calculate R-squared\n",
        "y_mean_train = np.mean(y_train)\n",
        "ss_tot_train = np.sum((y_train - y_mean_train) ** 2)\n",
        "ss_res_train = np.sum((predictions_train - y_train) ** 2)\n",
        "r_squared_train = 1 - (ss_res_train / ss_tot_train)\n",
        "\n",
        "print(f'Training R-squared: {r_squared_train}')\n"
      ],
      "metadata": {
        "colab": {
          "base_uri": "https://localhost:8080/"
        },
        "id": "GrhLStPnjzFX",
        "outputId": "57bd88db-4325-44fb-cb1b-df10484792dc"
      },
      "execution_count": 30,
      "outputs": [
        {
          "output_type": "stream",
          "name": "stdout",
          "text": [
            "Training MSE: 1135.582810687585\n",
            "Test MSE: 235.41525929371306\n",
            "Training R-squared: 0.9973773041329786\n"
          ]
        }
      ]
    },
    {
      "cell_type": "code",
      "source": [
        "import matplotlib.pyplot as plt\n",
        "\n",
        "\n",
        "plt.scatter(x_train, y_train, label='Original Data', color='blue')\n",
        "plt.scatter(x_train, predictions_train, label='5th Degree Features', color='red', alpha=0.5)\n",
        "plt.title('Original Data V 5th Degree Features')\n",
        "plt.xlabel('x')\n",
        "plt.ylabel('y')\n",
        "plt.legend(loc='upper left')\n",
        "plt.show()\n"
      ],
      "metadata": {
        "colab": {
          "base_uri": "https://localhost:8080/",
          "height": 472
        },
        "id": "6K408lJHkFNY",
        "outputId": "d5460b08-c30e-4ff9-f513-f07b63aeff2d"
      },
      "execution_count": 31,
      "outputs": [
        {
          "output_type": "display_data",
          "data": {
            "text/plain": [
              "<Figure size 640x480 with 1 Axes>"
            ],
            "image/png": "[encoded data removed]"
          },
          "metadata": {}
        }
      ]
    },
    {
      "cell_type": "code",
      "source": [
        "import pandas as pd\n",
        "import numpy as np\n",
        "from sklearn.linear_model import LinearRegression\n",
        "from sklearn.metrics import mean_squared_error\n",
        "\n",
        "data = pd.read_excel('Housing_data_regression.xlsx')\n",
        "\n",
        "X = data.iloc[:, :-1]\n",
        "y = data.iloc[:, -1]\n",
        "\n",
        "model = LinearRegression()\n",
        "model.fit(X, y)\n",
        "\n",
        "y_pred = model.predict(X)\n",
        "\n",
        "mse = mean_squared_error(y, y_pred)\n",
        "print(f\"The average least squares error (MSE) is: {mse}\")\n",
        "coefficients = model.coef_\n",
        "features = X.columns\n",
        "\n",
        "for feature, coef in zip(features, coefficients):\n",
        "    print(f\"Feature: {feature}, Coefficient: {coef}\")\n",
        "max_impact_feature = features[np.argmax(np.abs(coefficients))]\n",
        "min_impact_feature = features[np.argmin(np.abs(coefficients))]\n",
        "\n",
        "print(f\"The feature with the greatest impact is: {max_impact_feature}\")\n",
        "print(f\"The feature with the least impact is: {min_impact_feature}\")\n"
      ],
      "metadata": {
        "colab": {
          "base_uri": "https://localhost:8080/"
        },
        "id": "s0CpEKybhqRZ",
        "outputId": "fc73a21c-baf4-415c-9153-d5bcca68037d"
      },
      "execution_count": 47,
      "outputs": [
        {
          "output_type": "stream",
          "name": "stdout",
          "text": [
            "The average least squares error (MSE) is: 4999836044.236564\n",
            "Feature: House ID, Coefficient: 750.4102692650343\n",
            "Feature: Bathrooms, Coefficient: 207537.79452519264\n",
            "Feature: Land Area, Coefficient: 9557.56774842575\n",
            "Feature: Living area, Coefficient: 230848.49627918177\n",
            "Feature: # Garages, Coefficient: 46582.163164043806\n",
            "Feature: # Rooms, Coefficient: 110282.30223539606\n",
            "Feature: # Bedrooms, Coefficient: -144103.7397480485\n",
            "Feature: Age of home, Coefficient: -2024.2855931844388\n",
            "The feature with the greatest impact is: Living area\n",
            "The feature with the least impact is: House ID\n"
          ]
        }
      ]
    },
    {
      "cell_type": "markdown",
      "source": [
        "1-the average error (MSE) is around 4.99 billion\n",
        "2-The feature with the biggest influence on house prices is Living area (how big the house is), with a large coefficient. This means larger houses tend to have higher prices. that make sense because Bigger living areas usually increase the value of a house. While living area alone is a good predictor, if we add it other factors like bathrooms, rooms we can improve accuracy.\n",
        "3-The least important feature is House ID, which is just an identifier, so it doesn’t affect prices.\n",
        "to verify it we can tell the coefficient for House ID is small, meaning it barely changes the predicted price, so removing it from the model won’t change predictions"
      ],
      "metadata": {
        "id": "S2PpJcEVjbC4"
      }
    },
    {
      "cell_type": "code",
      "source": [
        "import numpy as np\n",
        "\n",
        "# Sigmoid function\n",
        "def sigmoid(z):\n",
        "    return 1 / (1 + np.exp(-z))\n"
      ],
      "metadata": {
        "id": "K-KL6riajbpp"
      },
      "execution_count": 48,
      "outputs": []
    },
    {
      "cell_type": "code",
      "source": [
        "# Cost function for logistic regression\n",
        "def compute_cost(X, y, theta):\n",
        "    m = len(y)\n",
        "    h = sigmoid(np.dot(X, theta))\n",
        "    cost = -1/m * (np.dot(y.T, np.log(h)) + np.dot((1 - y).T, np.log(1 - h)))\n",
        "    return cost\n"
      ],
      "metadata": {
        "id": "YxrV6w3dkBDO"
      },
      "execution_count": 49,
      "outputs": []
    },
    {
      "cell_type": "code",
      "source": [
        "# Gradient descent for logistic regression\n",
        "def gradient_descent(X, y, theta, lr, iterations):\n",
        "    m = len(y)\n",
        "    cost_history = []\n",
        "\n",
        "    for i in range(iterations):\n",
        "        h = sigmoid(np.dot(X, theta))\n",
        "        gradient = np.dot(X.T, (h - y)) / m\n",
        "        theta = theta - lr * gradient\n",
        "        cost = compute_cost(X, y, theta)\n",
        "        cost_history.append(cost)\n",
        "\n",
        "        # Stopping criterion\n",
        "        if i > 0 and np.abs(cost_history[i-1] - cost_history[i]) < 1e-6:\n",
        "            break\n",
        "\n",
        "    return theta, cost_history\n"
      ],
      "metadata": {
        "id": "M8fepxbOkCkC"
      },
      "execution_count": 50,
      "outputs": []
    },
    {
      "cell_type": "code",
      "source": [
        "import matplotlib.pyplot as plt\n",
        "\n",
        "# Function to plot decision boundary\n",
        "def plot_decision_boundary(X, y, theta):\n",
        "    plt.scatter(X[:, 1], y, c=y)\n",
        "\n",
        "    # Decision boundary line\n",
        "    x_values = [np.min(X[:, 1]), np.max(X[:, 1])]\n",
        "    y_values = -(theta[0] + np.dot(theta[1], x_values)) / theta[2]\n",
        "\n",
        "    plt.plot(x_values, y_values, label='Decision Boundary')\n",
        "    plt.xlabel('Feature 1')\n",
        "    plt.ylabel('Feature 2')\n",
        "    plt.legend()\n",
        "    plt.show()\n"
      ],
      "metadata": {
        "id": "hOKxVIfvkEHp"
      },
      "execution_count": 51,
      "outputs": []
    },
    {
      "cell_type": "code",
      "source": [
        "import numpy as np\n",
        "import matplotlib.pyplot as plt\n",
        "\n",
        "# Sigmoid function 3-1\n",
        "def sigmoid(z):\n",
        "    return 1 / (1 + np.exp(-z))\n",
        "\n",
        "# Cost function 3-2\n",
        "def compute_cost(X, y, theta):\n",
        "    m = len(y)\n",
        "    h = sigmoid(np.dot(X, theta))\n",
        "    cost = -1/m * (np.dot(y.T, np.log(h)) + np.dot((1 - y).T, np.log(1 - h)))\n",
        "    return cost\n",
        "\n",
        "# Gradient descent 3-3\n",
        "def gradient_descent(X, y, theta, lr, iterations):\n",
        "    m = len(y)\n",
        "    cost_history = []\n",
        "\n",
        "    for i in range(iterations):\n",
        "        h = sigmoid(np.dot(X, theta))\n",
        "        gradient = np.dot(X.T, (h - y)) / m\n",
        "        theta = theta - lr * gradient\n",
        "        cost = compute_cost(X, y, theta)\n",
        "        cost_history.append(cost)\n",
        "\n",
        "\n",
        "        if i > 0 and np.abs(cost_history[i-1] - cost_history[i]) < 1e-6:\n",
        "            break\n",
        "\n",
        "    return theta, cost_history\n",
        "# evalute the mode 3-4\n",
        "def plot_decision_boundary(X, y, theta):\n",
        "    plt.scatter(X[:, 1], X[:, 2], c=y, cmap='viridis')\n",
        "\n",
        "    x_min, x_max = X[:, 1].min() - 1, X[:, 1].max() + 1\n",
        "    y_min, y_max = X[:, 2].min() - 1, X[:, 2].max() + 1\n",
        "    xx, yy = np.meshgrid(np.arange(x_min, x_max, 0.1),\n",
        "                         np.arange(y_min, y_max, 0.1))\n",
        "\n",
        "    Z = sigmoid(np.dot(np.c_[np.ones((xx.ravel().shape[0], 1)), xx.ravel(), yy.ravel()], theta))\n",
        "    Z = Z.reshape(xx.shape)\n",
        "\n",
        "    plt.contour(xx, yy, Z, levels=[0.5], colors='red')\n",
        "    plt.xlabel('Feature 1')\n",
        "    plt.ylabel('Feature 2')\n",
        "    plt.title('Decision Boundary')\n",
        "    plt.show()\n",
        "\n",
        "\n",
        "X = np.array([[1, 2, 3], [1, 3, 4], [1, 4, 5], [1, 5, 6]])\n",
        "y = np.array([0, 0, 1, 1])\n",
        "\n",
        "theta = np.zeros(X.shape[1])\n",
        "lr = 0.01\n",
        "iterations = 1000\n",
        "\n",
        "\n",
        "theta, cost_history = gradient_descent(X, y, theta, lr, iterations)\n",
        "\n",
        "# Plot decision boundary\n",
        "plot_decision_boundary(X, y, theta)\n"
      ],
      "metadata": {
        "colab": {
          "base_uri": "https://localhost:8080/",
          "height": 472
        },
        "id": "6ugkDmUYkFfg",
        "outputId": "fad5dab5-db85-4027-b69f-b91d0e0434fc"
      },
      "execution_count": 53,
      "outputs": [
        {
          "output_type": "display_data",
          "data": {
            "text/plain": [
              "<Figure size 640x480 with 1 Axes>"
            ],
            "image/png": "[encoded data removed]"
          },
          "metadata": {}
        }
      ]
    },
    {
      "cell_type": "markdown",
      "source": [
        "Q3-1\n",
        "The sigmoid function is critical in logistic regression  because it converts the output of a linear equation into a probability, which is a value between 0 and 1, The output of the sigmoid function represents the probability that a particular input belongs to the positive class . If the output is greater than 0.5, we classify it as class 1 , and if it's less than 0.5, we classify it as class 0 .\n",
        "Q3-2\n",
        "Linear regression predicts numbers (e.g., house prices).\n",
        "Logistic regression predicts a class (e.g., tumor is malignant or benign).\n",
        "Output:\n",
        "Linear regression gives continuous values.\n",
        "Logistic regression gives probabilities (between 0 and 1).\n",
        "Cost function:\n",
        "Linear regression uses Mean Squared Error.\n",
        "Logistic regression uses a log-likelihood (cross-entropy), focusing on classification errors.\n",
        "Q3-3\n",
        "One-vs-All (OvA): Train separate models for each class. Each model checks if an item belongs to that class or not.\n",
        "Softmax Regression: Assigns probabilities to multiple classes and picks the one with the highest probability."
      ],
      "metadata": {
        "id": "QyvXhHYNnDrN"
      }
    },
    {
      "cell_type": "code",
      "source": [],
      "metadata": {
        "id": "2UR8ClMZnEQX"
      },
      "execution_count": null,
      "outputs": []
    }
  ]
}